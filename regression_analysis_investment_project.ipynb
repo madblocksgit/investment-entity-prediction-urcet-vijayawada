{
  "nbformat": 4,
  "nbformat_minor": 0,
  "metadata": {
    "colab": {
      "name": "regression_analysis_investment_project.ipynb",
      "provenance": [],
      "collapsed_sections": []
    },
    "kernelspec": {
      "name": "python3",
      "display_name": "Python 3"
    },
    "language_info": {
      "name": "python"
    }
  },
  "cells": [
    {
      "cell_type": "markdown",
      "metadata": {
        "id": "1dWOwPGpknHD"
      },
      "source": [
        "# Multiple Linear Regression"
      ]
    },
    {
      "cell_type": "code",
      "metadata": {
        "colab": {
          "base_uri": "https://localhost:8080/"
        },
        "id": "ha_Bsdp7kamd",
        "outputId": "edb53bc3-289b-4565-b2cf-d8de48484254"
      },
      "source": [
        "import pandas as pd\n",
        "from sklearn.compose import ColumnTransformer\n",
        "from sklearn.preprocessing import OneHotEncoder\n",
        "import numpy as np\n",
        "from sklearn.model_selection import train_test_split\n",
        "from sklearn.linear_model import LinearRegression\n",
        "from sklearn.metrics import r2_score\n",
        "\n",
        "dataset=pd.read_csv('50_Startups.csv')\n",
        "\n",
        "X=dataset.iloc[:,:-1].values\n",
        "Y=dataset.iloc[:,-1].values\n",
        "\n",
        "ct=ColumnTransformer(transformers=[('encoder',OneHotEncoder(),[3])],remainder=\"passthrough\")\n",
        "X=np.array(ct.fit_transform(X))\n",
        "\n",
        "X_train,X_test,Y_train,Y_test=train_test_split(X,Y,test_size=0.25)\n",
        "\n",
        "mlr=LinearRegression()\n",
        "mlr.fit(X_train,Y_train)\n",
        "\n",
        "Y_pred=mlr.predict(X_test)\n",
        "\n",
        "print(r2_score(Y_test,Y_pred))"
      ],
      "execution_count": 3,
      "outputs": [
        {
          "output_type": "stream",
          "text": [
            "0.9717486553252102\n"
          ],
          "name": "stdout"
        }
      ]
    },
    {
      "cell_type": "markdown",
      "metadata": {
        "id": "mkjUsqIGmMup"
      },
      "source": [
        "# Support Vector Regression"
      ]
    },
    {
      "cell_type": "code",
      "metadata": {
        "colab": {
          "base_uri": "https://localhost:8080/"
        },
        "id": "uhxN_ywEmO92",
        "outputId": "3bd9e09d-ba13-490d-a3ac-25d2b532a6d6"
      },
      "source": [
        "import pandas as pd\n",
        "from sklearn.compose import ColumnTransformer\n",
        "from sklearn.preprocessing import OneHotEncoder\n",
        "import numpy as np\n",
        "from sklearn.model_selection import train_test_split\n",
        "from sklearn.svm import SVR\n",
        "from sklearn.metrics import r2_score\n",
        "\n",
        "dataset=pd.read_csv('50_Startups.csv')\n",
        "\n",
        "X=dataset.iloc[:,:-1].values\n",
        "Y=dataset.iloc[:,-1].values\n",
        "\n",
        "ct=ColumnTransformer(transformers=[('encoder',OneHotEncoder(),[3])],remainder=\"passthrough\")\n",
        "X=np.array(ct.fit_transform(X))\n",
        "\n",
        "X_train,X_test,Y_train,Y_test=train_test_split(X,Y,test_size=0.25)\n",
        "\n",
        "regressor=SVR(kernel='linear')\n",
        "regressor.fit(X_train,Y_train)\n",
        "\n",
        "Y_pred=regressor.predict(X_test)\n",
        "\n",
        "print(r2_score(Y_test,Y_pred))"
      ],
      "execution_count": 2,
      "outputs": [
        {
          "output_type": "stream",
          "text": [
            "0.9692083203718563\n"
          ],
          "name": "stdout"
        }
      ]
    },
    {
      "cell_type": "markdown",
      "metadata": {
        "id": "k6SuWDNxm9Ze"
      },
      "source": [
        "# Decision Tree Regression"
      ]
    },
    {
      "cell_type": "code",
      "metadata": {
        "colab": {
          "base_uri": "https://localhost:8080/"
        },
        "id": "ih3SIl9um_-_",
        "outputId": "e45dbf21-98e9-4359-b08e-bb1ab010f549"
      },
      "source": [
        "import pandas as pd\n",
        "from sklearn.compose import ColumnTransformer\n",
        "from sklearn.preprocessing import OneHotEncoder\n",
        "import numpy as np\n",
        "from sklearn.model_selection import train_test_split\n",
        "from sklearn.tree import DecisionTreeRegressor\n",
        "from sklearn.metrics import r2_score\n",
        "\n",
        "dataset=pd.read_csv('50_Startups.csv')\n",
        "\n",
        "X=dataset.iloc[:,:-1].values\n",
        "Y=dataset.iloc[:,-1].values\n",
        "\n",
        "ct=ColumnTransformer(transformers=[('encoder',OneHotEncoder(),[3])],remainder=\"passthrough\")\n",
        "X=np.array(ct.fit_transform(X))\n",
        "\n",
        "X_train,X_test,Y_train,Y_test=train_test_split(X,Y,test_size=0.25)\n",
        "\n",
        "regressor=DecisionTreeRegressor()\n",
        "regressor.fit(X_train,Y_train)\n",
        "\n",
        "Y_pred=regressor.predict(X_test)\n",
        "\n",
        "print(r2_score(Y_test,Y_pred))"
      ],
      "execution_count": 3,
      "outputs": [
        {
          "output_type": "stream",
          "text": [
            "0.8432950216207333\n"
          ],
          "name": "stdout"
        }
      ]
    },
    {
      "cell_type": "markdown",
      "metadata": {
        "id": "X17rkIHnnWz6"
      },
      "source": [
        "# Random Forest Regression\n"
      ]
    },
    {
      "cell_type": "code",
      "metadata": {
        "colab": {
          "base_uri": "https://localhost:8080/"
        },
        "id": "r4RjBVPMnbGX",
        "outputId": "d0fe8ba1-24fe-4651-a42a-0b78c74df4ed"
      },
      "source": [
        "import pandas as pd\n",
        "from sklearn.compose import ColumnTransformer\n",
        "from sklearn.preprocessing import OneHotEncoder\n",
        "import numpy as np\n",
        "from sklearn.model_selection import train_test_split\n",
        "from sklearn.ensemble import RandomForestRegressor\n",
        "from sklearn.metrics import r2_score\n",
        "\n",
        "dataset=pd.read_csv('50_Startups.csv')\n",
        "\n",
        "X=dataset.iloc[:,:-1].values\n",
        "Y=dataset.iloc[:,-1].values\n",
        "\n",
        "ct=ColumnTransformer(transformers=[('encoder',OneHotEncoder(),[3])],remainder=\"passthrough\")\n",
        "X=np.array(ct.fit_transform(X))\n",
        "\n",
        "X_train,X_test,Y_train,Y_test=train_test_split(X,Y,test_size=0.25)\n",
        "\n",
        "regressor=RandomForestRegressor(n_estimators=10)\n",
        "regressor.fit(X_train,Y_train)\n",
        "\n",
        "Y_pred=regressor.predict(X_test)\n",
        "\n",
        "print(r2_score(Y_test,Y_pred))"
      ],
      "execution_count": 5,
      "outputs": [
        {
          "output_type": "stream",
          "text": [
            "0.941537861368388\n"
          ],
          "name": "stdout"
        }
      ]
    }
  ]
}